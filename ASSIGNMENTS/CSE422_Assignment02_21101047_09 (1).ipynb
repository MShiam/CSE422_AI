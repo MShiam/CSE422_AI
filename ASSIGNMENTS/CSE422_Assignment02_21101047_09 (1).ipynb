{
 "cells": [
  {
   "cell_type": "code",
   "execution_count": 4,
   "id": "96764689",
   "metadata": {},
   "outputs": [
    {
     "name": "stdout",
     "output_type": "stream",
     "text": [
      "Enter number of transactions - 2 \n",
      "d 10\n",
      "l 10\n",
      "11\n"
     ]
    }
   ],
   "source": [
    "import random\n",
    "var=int(input('Enter number of transactions - '))\n",
    "transactions = []\n",
    "for i in range(var):\n",
    "    reg= input().split()\n",
    "    reg[-1]=int(reg[-1])\n",
    "    reg2= tuple(reg)\n",
    "    transactions.append(reg2)\n",
    "p_sze=1000\n",
    "m_rate=0.8\n",
    "num_gen= 1000\n",
    "genes = transactions\n",
    "chromosomes = []\n",
    "for _ in range(p_sze):\n",
    "    random.shuffle(genes)\n",
    "    chromosomes.append(list(genes))\n",
    "def calculate_fitness(chromosome):\n",
    "    balance=0\n",
    "    num_balanced_transactions=0\n",
    "    for transaction in chromosome:\n",
    "        if transaction[0]=='l':\n",
    "            balance-= transaction[1]\n",
    "        else:\n",
    "            balance +=  transaction[1]\n",
    "        if balance == 0:\n",
    "            num_balanced_transactions+= 1\n",
    "    return num_balanced_transactions\n",
    "def selection(chromosomes):\n",
    "    sorted_chromosomes= sorted(chromosomes, key=calculate_fitness, reverse=True)\n",
    "    return sorted_chromosomes[:int(p_sze/2)]\n",
    "def crossover(parent1, parent2):\n",
    "    crossover_point= random.randint(1, len(transactions) - 1)\n",
    "    child1 = parent1[:crossover_point] + parent2[crossover_point:]\n",
    "    child2=parent2[:crossover_point] + parent1[crossover_point:]\n",
    "    return child1, child2\n",
    "def mutation(chromosome):\n",
    "    for i in range(len(chromosome)):\n",
    "        if random.random() < m_rate:\n",
    "            random_index=random.randint(0, len(transactions) - 1)\n",
    "            chromosome[i], chromosome[random_index] = chromosome[random_index], chromosome[i]\n",
    "    return chromosome\n",
    "for generation in range(num_gen):\n",
    "    selected_chromosomes=selection(chromosomes)\n",
    "    new_population = []\n",
    "    while len(new_population)<p_sze:\n",
    "        p1 = random.choice(selected_chromosomes)\n",
    "        p2 = random.choice(selected_chromosomes)\n",
    "        c1, c2=crossover(p1, p2)\n",
    "        c1=mutation(c1)\n",
    "        c2= mutation(c2)\n",
    "        new_population.append(c1)\n",
    "        new_population.append(c2)\n",
    "    chromosomes=new_population\n",
    "\n",
    "fittest_chromosome=max(chromosomes,key=calculate_fitness)\n",
    "balance_string=''.join(['1' if transaction in fittest_chromosome else '0' for transaction in transactions])\n",
    "#print(balance_string)\n",
    "x = balance_string.count(\"0\")\n",
    "if x==len(balance_string) :\n",
    "    print(-1)\n",
    "else:\n",
    "    print(balance_string)"
   ]
  },
  {
   "cell_type": "code",
   "execution_count": null,
   "id": "d6228c16",
   "metadata": {},
   "outputs": [],
   "source": []
  }
 ],
 "metadata": {
  "kernelspec": {
   "display_name": "Python 3",
   "language": "python",
   "name": "python3"
  },
  "language_info": {
   "codemirror_mode": {
    "name": "ipython",
    "version": 3
   },
   "file_extension": ".py",
   "mimetype": "text/x-python",
   "name": "python",
   "nbconvert_exporter": "python",
   "pygments_lexer": "ipython3",
   "version": "3.8.8"
  }
 },
 "nbformat": 4,
 "nbformat_minor": 5
}
